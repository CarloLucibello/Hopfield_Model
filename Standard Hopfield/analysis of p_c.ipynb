{
 "cells": [
  {
   "cell_type": "code",
   "execution_count": 1,
   "id": "1ccabd25",
   "metadata": {},
   "outputs": [],
   "source": [
    "import standard_hopfield as sh\n",
    "import numpy as np\n",
    "import matplotlib.pyplot as plt\n",
    "from numba import jit, prange, njit\n",
    "import time\n",
    "import math\n",
    "from scipy import optimize\n",
    "from scipy.optimize import curve_fit, fsolve\n",
    "from scipy import stats"
   ]
  },
  {
   "cell_type": "markdown",
   "id": "2466bb1a",
   "metadata": {},
   "source": [
    "We define the critical probability as\n",
    "$$\n",
    "p_c(N, \\alpha) := \\left\\{p: \\mathbb{P}^{reconst}_{N, \\alpha}(p) = \\frac{1}{2} \\right\\},\n",
    "$$\n",
    "that is, the corruption probability such that the reconstruction probability is equal to 0.5. <br>\n",
    "Thus, taking the $\\lim_{N \\to \\infty}$, we define:\n",
    "$$\n",
    "p_c(\\alpha) = \\lim_{N \\to \\infty} p_c(N, \\alpha).\n",
    "$$\n",
    "Assuming that $ p_c(N, \\alpha) \\sim 1/N $, i.e.\n",
    "$$\n",
    "p_c(N, \\alpha) = p_c(\\alpha) + \\frac{1}{N} p_c(\\alpha) + o\\left(\\frac{1}{N^2}\\right)\n",
    "$$\n",
    "**our goal is to determine $p_c(\\alpha)$**.<br>\n",
    "In order to achieve this, we need to fit the $\\mathbb{P}^{reconst}_{N, \\alpha}(p)$ function:\n",
    "$$\n",
    "\\mathbb{P}^{reconst}_{N, \\alpha}(p) = exp[{a_{N, \\alpha}p + b_{N, \\alpha} p^2 + c_{N, \\alpha} p^3}]\n",
    "$$"
   ]
  },
  {
   "cell_type": "markdown",
   "id": "0ab346f6",
   "metadata": {},
   "source": [
    "## $p_c$ for $\\alpha$ = 0.1"
   ]
  },
  {
   "cell_type": "code",
   "execution_count": 6,
   "id": "7a2c4940",
   "metadata": {},
   "outputs": [],
   "source": [
    "#load the data\n",
    "N = np.array([100, 200, 300, 400, 500, 600,700, 800, 900, 1000])#, 500, 1000, 2000])\n",
    "pp = np.linspace(0.05, 0.6, 25)\n",
    "P_100 = np.loadtxt(\"julia_data/alpha_01/probsN100.txt\", delimiter = \"\\t\")[:, 0]\n",
    "P_200 = np.loadtxt(\"julia_data/alpha_01/probsN200.txt\", delimiter = \"\\t\")[:, 0]\n",
    "P_300 = np.loadtxt(\"julia_data/alpha_01/probsN300.txt\", delimiter = \"\\t\")[:, 0]\n",
    "P_400 = np.loadtxt(\"julia_data/alpha_01/probsN400.txt\", delimiter = \"\\t\")[:, 0]\n",
    "P_500 = np.loadtxt(\"julia_data/alpha_01/probsN500.txt\", delimiter = \"\\t\")[:, 0]\n",
    "P_600 = np.loadtxt(\"julia_data/alpha_01/probsN600.txt\", delimiter = \"\\t\")[:, 0]\n",
    "P_700 = np.loadtxt(\"julia_data/alpha_01/probsN700.txt\", delimiter = \"\\t\")[:, 0]\n",
    "P_800 = np.loadtxt(\"julia_data/alpha_01/probsN800.txt\", delimiter = \"\\t\")[:, 0]\n",
    "P_900 = np.loadtxt(\"julia_data/alpha_01/probsN900.txt\", delimiter = \"\\t\")[:, 0]\n",
    "P_1000 = np.loadtxt(\"julia_data/alpha_01/probsN1000.txt\", delimiter = \"\\t\")[:, 0]\n",
    "#P_1000 = np.loadtxt(\"julia_data/alpha_01/probsN1000.txt\", delimiter = \"\\t\")[:, 0]\n",
    "#P_2000 = np.loadtxt(\"julia_data/alpha_01/probsN2000.txt\", delimiter = \"\\t\")[:, 0]\n"
   ]
  },
  {
   "cell_type": "code",
   "execution_count": 8,
   "id": "5249e87b",
   "metadata": {},
   "outputs": [
    {
     "data": {
      "text/plain": [
       "array([0.93      , 0.93333333, 0.92866667, 0.91733333, 0.89933333,\n",
       "       0.886     , 0.87533333, 0.84733333, 0.812     , 0.71466667,\n",
       "       0.64066667, 0.53933333, 0.422     , 0.31866667, 0.19133333,\n",
       "       0.11666667, 0.058     , 0.022     , 0.00466667, 0.00266667,\n",
       "       0.00133333, 0.002     , 0.        , 0.        , 0.        ])"
      ]
     },
     "execution_count": 8,
     "metadata": {},
     "output_type": "execute_result"
    }
   ],
   "source": [
    "P_200"
   ]
  },
  {
   "cell_type": "code",
   "execution_count": 12,
   "id": "dff0da97",
   "metadata": {},
   "outputs": [],
   "source": [
    "# fit the probability of reconstruction\n",
    "def P_rec(p, a, b, c): return np.exp(a * p + b * p**2 + c * p**3)\n",
    "P = [P_100, P_200, P_300, P_400, P_500, P_600, P_700, P_800, P_900, P_1000]#, P_500, P_1000, P_2000]\n",
    "p_critical = np.zeros(len(P))\n",
    "\n",
    "for i in range(len(P)):\n",
    "    popt, pcov = curve_fit(P_rec, pp, P[i])\n",
    "    sol = optimize.root_scalar(lambda p: np.exp(popt[0] * p + popt[1] * p**2 + popt[2] * p**3) - 0.5,\n",
    "                           x0 = 0.60, bracket = [0.1, 7], method='brentq')\n",
    "    p_critical[i] = sol.root\n",
    "    #f = lambda p: np.exp(popt[0] * p + popt[1] * p**2 + popt[2] * p**3) - 0.5\n",
    "    #sol = fsolve(f, 0.31)\n",
    "    #p_critical[i] = sol\n",
    "    #root = optimize.newton(lambda p: np.exp(popt[0] * p + popt[1] * p**2 + popt[2] * p**3) - 2, 0.5)\n",
    "    #p_critical[i] = root"
   ]
  },
  {
   "cell_type": "code",
   "execution_count": 13,
   "id": "a4385f14",
   "metadata": {},
   "outputs": [],
   "source": [
    "p_critical = p_critical[::-1] # reverse the array since we want to plot against 1/N"
   ]
  },
  {
   "cell_type": "code",
   "execution_count": 14,
   "id": "b888dbc3",
   "metadata": {},
   "outputs": [],
   "source": [
    "N_reciproc = np.array(list(map(lambda n: 1/n, N)))[::-1]"
   ]
  },
  {
   "cell_type": "code",
   "execution_count": 16,
   "id": "ce904899",
   "metadata": {},
   "outputs": [
    {
     "data": {
      "image/png": "[encoded data removed]",
      "text/plain": [
       "<Figure size 504x360 with 1 Axes>"
      ]
     },
     "metadata": {
      "needs_background": "light"
     },
     "output_type": "display_data"
    }
   ],
   "source": [
    "N_reciproc.reshape(-1,1)\n",
    "res = stats.linregress(N_reciproc, p_critical)\n",
    "intercept = res.intercept\n",
    "slope = res.slope\n",
    "\n",
    "size = 12\n",
    "fig = plt.figure(figsize = (7,5))\n",
    "plt.plot(N_reciproc, p_critical, c = \"red\", marker = \"o\", markerfacecolor = \"None\",\n",
    "         linewidth = 1., label = r\"experimental $p_c(N, \\alpha = 0.1)$\")\n",
    "#plt.plot(N_reciproc, intercept + slope * N_reciproc, linestyle = \"--\", c = \"black\",\n",
    "#         linewidth = 1., label = r\"regression line $p_c(\\alpha = 0.1)$ = {}\".format(round(intercept, 3)))\n",
    "plt.xlabel(r\"1/N\", size = size)\n",
    "plt.ylabel(r\"$p_c(N, \\alpha = 0.1)$\", size = size)\n",
    "plt.grid(axis = \"both\", linestyle = \"--\", alpha = 0.5)\n",
    "plt.legend(fontsize = size)\n",
    "plt.show()\n",
    "#fig.savefig(\"images/p_c_α01.pdf\", transparent = True)"
   ]
  },
  {
   "cell_type": "markdown",
   "id": "daa7b14b",
   "metadata": {},
   "source": [
    "%%time\n",
    "N = np.array([250])\n",
    "parameters = {\n",
    "    \"pp\": np.linspace(0.02, 0.6, 25),\n",
    "    \"α\": 0.1,\n",
    "    \"nsweeps\": 70,\n",
    "    \"ntrials\": 1,\n",
    "    \"nsamples\": 2000,\n",
    "    \"β\": 10**3,\n",
    "    \"earlystop\": 0,\n",
    "    \"plot\": True,\n",
    "    \"save\": False\n",
    "}\n",
    "\n",
    "for n in N:\n",
    "    print(\"Starting simulation for N = {}\".format(n), \"\\n...\")\n",
    "    p, e = reconstruction_probability(n, **parameters)\n",
    "    print(\"Done!\\n\\n\")"
   ]
  },
  {
   "cell_type": "code",
   "execution_count": null,
   "id": "2196ec6e",
   "metadata": {},
   "outputs": [],
   "source": []
  }
 ],
 "metadata": {
  "kernelspec": {
   "display_name": "Python 3 (ipykernel)",
   "language": "python",
   "name": "python3"
  },
  "language_info": {
   "codemirror_mode": {
    "name": "ipython",
    "version": 3
   },
   "file_extension": ".py",
   "mimetype": "text/x-python",
   "name": "python",
   "nbconvert_exporter": "python",
   "pygments_lexer": "ipython3",
   "version": "3.9.5"
  }
 },
 "nbformat": 4,
 "nbformat_minor": 5
}
