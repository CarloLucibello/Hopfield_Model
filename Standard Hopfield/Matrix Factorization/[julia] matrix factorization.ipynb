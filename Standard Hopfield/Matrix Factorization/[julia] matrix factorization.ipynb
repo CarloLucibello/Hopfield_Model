{
 "cells": [
  {
   "cell_type": "code",
   "execution_count": 4,
   "id": "d53717ec",
   "metadata": {},
   "outputs": [
    {
     "name": "stderr",
     "output_type": "stream",
     "text": [
      "WARNING: replacing module SH.\n"
     ]
    }
   ],
   "source": [
    "include(\"standard_hopfield.jl\")\n",
    "using Statistics, LinearAlgebra, Plots\n",
    "using DelimitedFiles, Random\n",
    "using ProfileView"
   ]
  },
  {
   "cell_type": "markdown",
   "id": "908b8631",
   "metadata": {},
   "source": [
    "### Without simulated annealing"
   ]
  },
  {
   "cell_type": "markdown",
   "id": "1987d64c",
   "metadata": {},
   "source": [
    "Now we start from a random pattern and we try to minimize the energy: we would like to end up in a stored pattern."
   ]
  },
  {
   "cell_type": "code",
   "execution_count": 5,
   "id": "74625e11",
   "metadata": {},
   "outputs": [
    {
     "data": {
      "text/plain": [
       "matrix_factorization_experiment (generic function with 1 method)"
      ]
     },
     "execution_count": 5,
     "metadata": {},
     "output_type": "execute_result"
    }
   ],
   "source": [
    "function matrix_factorization_experiment(;\n",
    "    N = 1000,\n",
    "    alpha = 0.02,\n",
    "    nsweeps = 100,\n",
    "    ntrials = 1,\n",
    "    annealing = true)\n",
    "\n",
    "    # Random.seed!(17)\n",
    "    M = round(Int, N * alpha)\n",
    "    ξ = SH.generate_patterns(M, N)\n",
    "    J = SH.store(ξ)\n",
    "\n",
    "    ξ_new = zeros(Int, N, M)\n",
    "    J_new = copy(J)\n",
    "    M_new = 0 \n",
    "    for m in 1:M\n",
    "        for _ in 1:ntrials\n",
    "            σ = SH.init_pattern(N)\n",
    "            σ_rec = SH.monte_carlo(J_new, σ; nsweeps = nsweeps, earlystop = 0, β = 100, annealing)\n",
    "            overlaps = (σ_rec' * ξ) ./ N\n",
    "            if maximum(abs, overlaps) >= 0.95\n",
    "                # println(\"success\")\n",
    "                J_new -= σ_rec * σ_rec' ./ N\n",
    "                J_new[diagind(J_new)] .= 0\n",
    "                M_new += 1\n",
    "                ξ_new[:,m] .= σ_rec\n",
    "                break\n",
    "            end\n",
    "            # println(\"fail: $(overlaps)\")\n",
    "            # p = histogram(overlaps, bins=-1:0.1:1)\n",
    "        end\n",
    "    end\n",
    "    return ξ_new, M_new\n",
    "end"
   ]
  },
  {
   "cell_type": "code",
   "execution_count": 6,
   "id": "c3877d98",
   "metadata": {},
   "outputs": [
    {
     "data": {
      "text/plain": [
       "([1 1 … 1 -1; -1 -1 … -1 1; … ; 1 -1 … -1 -1; -1 -1 … 1 1], 20)"
      ]
     },
     "execution_count": 6,
     "metadata": {},
     "output_type": "execute_result"
    }
   ],
   "source": [
    "ξ_new, M_new = matrix_factorization_experiment()"
   ]
  },
  {
   "cell_type": "code",
   "execution_count": 7,
   "id": "aa662740",
   "metadata": {},
   "outputs": [
    {
     "data": {
      "text/plain": [
       "Gtk.GtkWindowLeaf(name=\"\", parent, width-request=-1, height-request=-1, visible=TRUE, sensitive=TRUE, app-paintable=FALSE, can-focus=FALSE, has-focus=FALSE, is-focus=FALSE, focus-on-click=TRUE, can-default=FALSE, has-default=FALSE, receives-default=FALSE, composite-child=FALSE, style, events=0, no-show-all=FALSE, has-tooltip=FALSE, tooltip-markup=NULL, tooltip-text=NULL, window, opacity=1,000000, double-buffered, halign=GTK_ALIGN_FILL, valign=GTK_ALIGN_FILL, margin-left, margin-right, margin-start=0, margin-end=0, margin-top=0, margin-bottom=0, margin=0, hexpand=FALSE, vexpand=FALSE, hexpand-set=FALSE, vexpand-set=FALSE, expand=FALSE, scale-factor=2, border-width=0, resize-mode, child, type=GTK_WINDOW_TOPLEVEL, title=\"Profile\", role=NULL, resizable=TRUE, modal=FALSE, window-position=GTK_WIN_POS_NONE, default-width=800, default-height=600, destroy-with-parent=FALSE, hide-titlebar-when-maximized=FALSE, icon, icon-name=NULL, screen, type-hint=GDK_WINDOW_TYPE_HINT_NORMAL, skip-taskbar-hint=FALSE, skip-pager-hint=FALSE, urgency-hint=FALSE, accept-focus=TRUE, focus-on-map=TRUE, decorated=TRUE, deletable=TRUE, gravity=GDK_GRAVITY_NORTH_WEST, transient-for, attached-to, has-resize-grip, resize-grip-visible, application, is-active=FALSE, has-toplevel-focus=FALSE, startup-id, mnemonics-visible=FALSE, focus-visible=FALSE, is-maximized=FALSE)"
      ]
     },
     "execution_count": 7,
     "metadata": {},
     "output_type": "execute_result"
    }
   ],
   "source": [
    "@profview matrix_factorization_experiment()"
   ]
  },
  {
   "cell_type": "code",
   "execution_count": 8,
   "id": "815647e9",
   "metadata": {},
   "outputs": [
    {
     "data": {
      "text/plain": [
       "(0.0, CartesianIndex(1, 2))"
      ]
     },
     "execution_count": 8,
     "metadata": {},
     "output_type": "execute_result"
    }
   ],
   "source": [
    "findmax([-1.0 0.0 -0.13333333333333333])"
   ]
  },
  {
   "cell_type": "markdown",
   "id": "64f1218f",
   "metadata": {},
   "source": [
    "### With simulated annealing"
   ]
  },
  {
   "cell_type": "code",
   "execution_count": 11,
   "id": "da00c308",
   "metadata": {},
   "outputs": [
    {
     "data": {
      "text/plain": [
       "100"
      ]
     },
     "execution_count": 11,
     "metadata": {},
     "output_type": "execute_result"
    }
   ],
   "source": [
    "M = 10\n",
    "N = 100\n",
    "ξ = SH.generate_patterns(M, N)\n",
    "J = SH.store(ξ)\n",
    "nsweeps = 100"
   ]
  },
  {
   "cell_type": "code",
   "execution_count": null,
   "id": "dfd48e9b",
   "metadata": {},
   "outputs": [],
   "source": []
  }
 ],
 "metadata": {
  "kernelspec": {
   "display_name": "Julia 1.7.2",
   "language": "julia",
   "name": "julia-1.7"
  },
  "language_info": {
   "file_extension": ".jl",
   "mimetype": "application/julia",
   "name": "julia",
   "version": "1.7.2"
  }
 },
 "nbformat": 4,
 "nbformat_minor": 5
}
