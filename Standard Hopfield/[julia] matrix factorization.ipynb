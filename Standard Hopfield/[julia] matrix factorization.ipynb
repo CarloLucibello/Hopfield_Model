{
 "cells": [
  {
   "cell_type": "code",
   "execution_count": 1,
   "id": "d53717ec",
   "metadata": {},
   "outputs": [],
   "source": [
    "include(\"standard_hopfield.jl\")\n",
    "using .SH, Statistics, LinearAlgebra, Plots\n",
    "using DelimitedFiles, Random"
   ]
  },
  {
   "cell_type": "markdown",
   "id": "908b8631",
   "metadata": {},
   "source": [
    "### Without simulated annealing"
   ]
  },
  {
   "cell_type": "markdown",
   "id": "1987d64c",
   "metadata": {},
   "source": [
    "Now we start from a random pattern and we try to minimize the energy: we would like to end up in a stored pattern."
   ]
  },
  {
   "cell_type": "code",
   "execution_count": 109,
   "id": "74625e11",
   "metadata": {},
   "outputs": [
    {
     "name": "stdout",
     "output_type": "stream",
     "text": [
      "1"
     ]
    }
   ],
   "source": [
    "α = 0.1\n",
    "N = 30\n",
    "M = round(Int, N * α)\n",
    "ξ = generate_patterns(M, N)\n",
    "J = store(ξ)\n",
    "nsweeps = 100\n",
    "\n",
    "#success = 0\n",
    "ntrials = 100\n",
    "\n",
    "N_new = size(J)[1]\n",
    "M_max = round(Int, N_new * 0.138)\n",
    "M_new = 0\n",
    "J_new = copy(J)\n",
    "ξ_new = zeros(N_new, M_max)\n",
    "\n",
    "for m in 1:M_max\n",
    "    for _ in 1:ntrials\n",
    "        σ = init_pattern(N)\n",
    "        σ_rec = monte_carlo(J_new, σ; nsweeps = nsweeps, earlystop = 0, β = 10^6)\n",
    "        overlaps = (ξ' * σ_rec)./ N\n",
    "        if findmax(overlaps)[1] >= 0.95\n",
    "            J_new -= σ_rec * σ_rec'\n",
    "            J_new[diagind(J_new)] .= 0\n",
    "            M_new += 1\n",
    "            ξ_new[:, m] = σ_rec\n",
    "            break\n",
    "        end\n",
    "    end\n",
    "end\n",
    "\n",
    "print(M_new)\n"
   ]
  },
  {
   "cell_type": "code",
   "execution_count": 106,
   "id": "c3877d98",
   "metadata": {},
   "outputs": [
    {
     "data": {
      "text/plain": [
       "true"
      ]
     },
     "execution_count": 106,
     "metadata": {},
     "output_type": "execute_result"
    }
   ],
   "source": [
    "ξ_new[:, 1] == ξ[:,2]"
   ]
  },
  {
   "cell_type": "markdown",
   "id": "64f1218f",
   "metadata": {},
   "source": [
    "### With simulated annealing"
   ]
  },
  {
   "cell_type": "code",
   "execution_count": 118,
   "id": "da00c308",
   "metadata": {},
   "outputs": [
    {
     "name": "stdout",
     "output_type": "stream",
     "text": [
      "3"
     ]
    }
   ],
   "source": [
    "α = 0.1\n",
    "N = 30\n",
    "M = round(Int, N * α)\n",
    "ξ = generate_patterns(M, N)\n",
    "J = store(ξ)\n",
    "nsweeps = 100\n",
    "\n",
    "#success = 0\n",
    "ntrials = 100\n",
    "\n",
    "N_new = size(J)[1]\n",
    "M_max = round(Int, N_new * 0.138)\n",
    "M_new = 0\n",
    "J_new = copy(J)\n",
    "ξ_new = zeros(N_new, M_max)\n",
    "\n",
    "for m in 1:M_max\n",
    "    for _ in 1:ntrials\n",
    "        σ = init_pattern(N)\n",
    "        σ_rec = monte_carlo(J_new, σ; nsweeps = nsweeps, earlystop = 0, β = 10^5, annealing = true)\n",
    "        overlaps = (ξ' * σ_rec)./ N\n",
    "        if findmax(overlaps)[1] >= 0.9\n",
    "            J_new -= σ_rec * σ_rec'\n",
    "            J_new[diagind(J_new)] .= 0\n",
    "            M_new += 1\n",
    "            ξ_new[:, m] = σ_rec\n",
    "            break\n",
    "        end\n",
    "    end\n",
    "end\n",
    "\n",
    "print(M_new)\n",
    "\n"
   ]
  },
  {
   "cell_type": "code",
   "execution_count": 116,
   "id": "861e0561",
   "metadata": {},
   "outputs": [
    {
     "data": {
      "text/plain": [
       "20×2 Matrix{Int64}:\n",
       "  1   1\n",
       " -1  -1\n",
       "  1  -1\n",
       " -1   1\n",
       "  1   1\n",
       " -1  -1\n",
       " -1   1\n",
       "  1   1\n",
       "  1   1\n",
       "  1   1\n",
       " -1   1\n",
       " -1   1\n",
       " -1   1\n",
       " -1  -1\n",
       "  1   1\n",
       "  1  -1\n",
       " -1   1\n",
       " -1   1\n",
       "  1   1\n",
       " -1  -1"
      ]
     },
     "execution_count": 116,
     "metadata": {},
     "output_type": "execute_result"
    }
   ],
   "source": [
    "ξ"
   ]
  },
  {
   "cell_type": "code",
   "execution_count": 114,
   "id": "126ca903",
   "metadata": {},
   "outputs": [
    {
     "data": {
      "text/plain": [
       "20×3 Matrix{Float64}:\n",
       " -1.0  -1.0  0.0\n",
       "  1.0  -1.0  0.0\n",
       "  1.0   1.0  0.0\n",
       " -1.0   1.0  0.0\n",
       " -1.0   1.0  0.0\n",
       " -1.0  -1.0  0.0\n",
       "  1.0   1.0  0.0\n",
       "  1.0  -1.0  0.0\n",
       " -1.0   1.0  0.0\n",
       "  1.0  -1.0  0.0\n",
       " -1.0   1.0  0.0\n",
       " -1.0   1.0  0.0\n",
       "  1.0  -1.0  0.0\n",
       " -1.0   1.0  0.0\n",
       "  1.0   1.0  0.0\n",
       "  1.0   1.0  0.0\n",
       "  1.0   1.0  0.0\n",
       " -1.0  -1.0  0.0\n",
       " -1.0  -1.0  0.0\n",
       "  1.0   1.0  0.0"
      ]
     },
     "execution_count": 114,
     "metadata": {},
     "output_type": "execute_result"
    }
   ],
   "source": [
    "ξ_new"
   ]
  },
  {
   "cell_type": "markdown",
   "id": "36392465",
   "metadata": {},
   "source": [
    "function metropolis1(J, σ, β)\n",
    "    N = length(σ)\n",
    "    \n",
    "    fliprate = 0\n",
    "    for n in 1:N\n",
    "        i = rand(1:N)\n",
    "        ΔE = energy_variation(J, σ, i)\n",
    "        \n",
    "        if (ΔE < 0) || rand() < exp(-β*ΔE)\n",
    "            σ[i] *= -1\n",
    "            fliprate += 1\n",
    "        end\n",
    "    end\n",
    "    return σ, fliprate/N\n",
    "end\n",
    "\n",
    "function monte_carlo1(J::AbstractMatrix, σ::AbstractVector;\n",
    "        nsweeps = 100, earlystop = 0, β = 10, annealing = false)\n",
    "    \n",
    "    σ_rec = copy(σ)\n",
    "    \n",
    "    if annealing\n",
    "        β_n = 10 .^ (range(-10, stop = log10(β), length = nsweeps))\n",
    "        for sweep in 1:nsweeps\n",
    "            #print(β_n[sweep], \"\\n\")\n",
    "            σ_rec, fliprate = metropolis1(J, σ_rec, β_n[sweep])\n",
    "            fliprate <= earlystop && break\n",
    "        end     \n",
    "    else\n",
    "        for sweep in 1:nsweeps\n",
    "            σ_rec, fliprate = metropolis1(J, σ_rec, β)\n",
    "            fliprate <= earlystop && break\n",
    "        end\n",
    "    end\n",
    "    \n",
    "    return σ_rec\n",
    "end"
   ]
  },
  {
   "cell_type": "code",
   "execution_count": 44,
   "id": "b0215aac",
   "metadata": {},
   "outputs": [
    {
     "data": {
      "text/plain": [
       "100-element Vector{Float64}:\n",
       "     0.01\n",
       "     0.011497569953977356\n",
       "     0.013219411484660288\n",
       "     0.01519911082952934\n",
       "     0.01747528400007684\n",
       "     0.02009233002565047\n",
       "     0.02310129700083159\n",
       "     0.026560877829466867\n",
       "     0.030538555088334154\n",
       "     0.03511191734215131\n",
       "     0.040370172585965536\n",
       "     0.046415888336127795\n",
       "     0.0533669923120631\n",
       "     ⋮\n",
       "  2154.4346900318847\n",
       "  2477.0763559917114\n",
       "  2848.035868435802\n",
       "  3274.5491628777286\n",
       "  3764.9358067924672\n",
       "  4328.761281083057\n",
       "  4977.023564332108\n",
       "  5722.3676593502205\n",
       "  6579.332246575683\n",
       "  7564.633275546291\n",
       "  8697.490026177835\n",
       " 10000.0"
      ]
     },
     "execution_count": 44,
     "metadata": {},
     "output_type": "execute_result"
    }
   ],
   "source": []
  }
 ],
 "metadata": {
  "kernelspec": {
   "display_name": "Julia 1.7.2",
   "language": "julia",
   "name": "julia-1.7"
  },
  "language_info": {
   "file_extension": ".jl",
   "mimetype": "application/julia",
   "name": "julia",
   "version": "1.7.2"
  }
 },
 "nbformat": 4,
 "nbformat_minor": 5
}
