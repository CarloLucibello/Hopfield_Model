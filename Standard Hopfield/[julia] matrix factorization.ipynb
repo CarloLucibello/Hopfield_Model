{
 "cells": [
  {
   "cell_type": "code",
   "execution_count": 1,
   "id": "d53717ec",
   "metadata": {},
   "outputs": [],
   "source": [
    "include(\"standard_hopfield.jl\")\n",
    "using Statistics, LinearAlgebra, Plots\n",
    "using DelimitedFiles, Random\n",
    "using "
   ]
  },
  {
   "cell_type": "markdown",
   "id": "908b8631",
   "metadata": {},
   "source": [
    "### Without simulated annealing"
   ]
  },
  {
   "cell_type": "markdown",
   "id": "1987d64c",
   "metadata": {},
   "source": [
    "Now we start from a random pattern and we try to minimize the energy: we would like to end up in a stored pattern."
   ]
  },
  {
   "cell_type": "code",
   "execution_count": 63,
   "id": "74625e11",
   "metadata": {},
   "outputs": [
    {
     "ename": "LoadError",
     "evalue": "syntax: missing comma or ) in argument list",
     "output_type": "error",
     "traceback": [
      "syntax: missing comma or ) in argument list",
      "",
      "Stacktrace:",
      " [1] top-level scope",
      "   @ In[63]:3",
      " [2] eval",
      "   @ ./boot.jl:373 [inlined]",
      " [3] include_string(mapexpr::typeof(REPL.softscope), mod::Module, code::String, filename::String)",
      "   @ Base ./loading.jl:1196"
     ]
    }
   ],
   "source": [
    "function matrix_factorization_experiment(;\n",
    "    N = 2000\n",
    "    alpha = 0.04\n",
    "    nsweeps = 100\n",
    "    ntrials = 10\n",
    "    annealing = true)\n",
    "\n",
    "    # Random.seed!(17)\n",
    "    M = round(Int, N * alpha)\n",
    "    ξ = SH.generate_patterns(M, N)\n",
    "    J = SH.store(ξ)\n",
    "\n",
    "    ξ_new = zeros(Int, N, M)\n",
    "    J_new = copy(J)\n",
    "    M_new = 0 \n",
    "    for m in 1:M\n",
    "        for _ in 1:ntrials\n",
    "            σ = SH.init_pattern(N)\n",
    "            σ_rec = SH.monte_carlo(J_new, σ; nsweeps = nsweeps, earlystop = 0, β = 100, annealing)\n",
    "            overlaps = (σ_rec' * ξ) ./ N\n",
    "            if maximum(abs, overlaps) >= 0.95\n",
    "                # println(\"success\")\n",
    "                J_new -= σ_rec * σ_rec' ./ N\n",
    "                J_new[diagind(J_new)] .= 0\n",
    "                M_new += 1\n",
    "                ξ_new[:,m] .= σ_rec\n",
    "                break\n",
    "            end\n",
    "            # println(\"fail: $(overlaps)\")\n",
    "            # p = histogram(overlaps, bins=-1:0.1:1)\n",
    "        end\n",
    "    end\n",
    "    return ξ_new, M_new\n",
    "end"
   ]
  },
  {
   "cell_type": "code",
   "execution_count": 33,
   "id": "cffd73db",
   "metadata": {},
   "outputs": [
    {
     "data": {
      "text/plain": [
       "1×3 Matrix{Float64}:\n",
       " -0.666667  -0.0666667  0.0"
      ]
     },
     "execution_count": 33,
     "metadata": {},
     "output_type": "execute_result"
    }
   ],
   "source": [
    "overlaps"
   ]
  },
  {
   "cell_type": "code",
   "execution_count": 17,
   "id": "75262721",
   "metadata": {},
   "outputs": [
    {
     "data": {
      "text/plain": [
       "(0.0, CartesianIndex(1, 2))"
      ]
     },
     "execution_count": 17,
     "metadata": {},
     "output_type": "execute_result"
    }
   ],
   "source": [
    "findmax([-1.0 0.0 -0.13333333333333333])"
   ]
  },
  {
   "cell_type": "markdown",
   "id": "64f1218f",
   "metadata": {},
   "source": [
    "### With simulated annealing"
   ]
  },
  {
   "cell_type": "code",
   "execution_count": 61,
   "id": "da00c308",
   "metadata": {},
   "outputs": [
    {
     "data": {
      "text/plain": [
       "100"
      ]
     },
     "execution_count": 61,
     "metadata": {},
     "output_type": "execute_result"
    }
   ],
   "source": [
    "M = 10\n",
    "N = 100\n",
    "ξ = generate_patterns(M, N)\n",
    "J = store(ξ)\n",
    "nsweeps = 100\n"
   ]
  },
  {
   "cell_type": "code",
   "execution_count": null,
   "id": "863b1022",
   "metadata": {},
   "outputs": [],
   "source": []
  }
 ],
 "metadata": {
  "kernelspec": {
   "display_name": "Julia 1.7.2",
   "language": "julia",
   "name": "julia-1.7"
  },
  "language_info": {
   "file_extension": ".jl",
   "mimetype": "application/julia",
   "name": "julia",
   "version": "1.7.2"
  }
 },
 "nbformat": 4,
 "nbformat_minor": 5
}
