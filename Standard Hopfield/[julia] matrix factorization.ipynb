{
 "cells": [
  {
   "cell_type": "code",
   "execution_count": 1,
   "id": "d53717ec",
   "metadata": {},
   "outputs": [],
   "source": [
    "include(\"standard_hopfield.jl\")\n",
    "using .SH, Statistics, LinearAlgebra, Plots\n",
    "using DelimitedFiles, Random"
   ]
  },
  {
   "cell_type": "markdown",
   "id": "908b8631",
   "metadata": {},
   "source": [
    "### Without simulated annealing"
   ]
  },
  {
   "cell_type": "markdown",
   "id": "1987d64c",
   "metadata": {},
   "source": [
    "Now we start from a random pattern and we try to minimize the energy: we would like to end up in a stored pattern."
   ]
  },
  {
   "cell_type": "code",
   "execution_count": 76,
   "id": "74625e11",
   "metadata": {},
   "outputs": [
    {
     "data": {
      "text/plain": [
       "16"
      ]
     },
     "execution_count": 76,
     "metadata": {},
     "output_type": "execute_result"
    }
   ],
   "source": [
    "M = 10\n",
    "N = 100\n",
    "ξ = generate_patterns(M, N)\n",
    "J = store(ξ)\n",
    "nsweeps = 100\n",
    "\n",
    "success = 0\n",
    "ntrials = 100\n",
    "\n",
    "#σ = init_pattern(N)\n",
    "for _ in 1:ntrials\n",
    "    σ = init_pattern(N)\n",
    "    σ_rec = monte_carlo(J, σ; nsweeps = nsweeps, earlystop = 0, β = 10^6)\n",
    "    overlaps = (σ_rec' * ξ)./N\n",
    "    if findmax(overlaps)[1] >= 0.95\n",
    "        success += 1\n",
    "    end\n",
    "end\n",
    "\n",
    "success\n"
   ]
  },
  {
   "cell_type": "markdown",
   "id": "64f1218f",
   "metadata": {},
   "source": [
    "### With simulated annealing"
   ]
  },
  {
   "cell_type": "code",
   "execution_count": 61,
   "id": "da00c308",
   "metadata": {},
   "outputs": [
    {
     "data": {
      "text/plain": [
       "100"
      ]
     },
     "execution_count": 61,
     "metadata": {},
     "output_type": "execute_result"
    }
   ],
   "source": [
    "M = 10\n",
    "N = 100\n",
    "ξ = generate_patterns(M, N)\n",
    "J = store(ξ)\n",
    "nsweeps = 100\n"
   ]
  },
  {
   "cell_type": "code",
   "execution_count": null,
   "id": "863b1022",
   "metadata": {},
   "outputs": [],
   "source": []
  }
 ],
 "metadata": {
  "kernelspec": {
   "display_name": "Julia 1.7.2",
   "language": "julia",
   "name": "julia-1.7"
  },
  "language_info": {
   "file_extension": ".jl",
   "mimetype": "application/julia",
   "name": "julia",
   "version": "1.7.2"
  }
 },
 "nbformat": 4,
 "nbformat_minor": 5
}
