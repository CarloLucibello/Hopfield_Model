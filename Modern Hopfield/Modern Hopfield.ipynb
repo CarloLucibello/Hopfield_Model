{
 "cells": [
  {
   "cell_type": "code",
   "execution_count": 1,
   "id": "fdb5ca3e",
   "metadata": {},
   "outputs": [],
   "source": [
    "import numpy as np\n",
    "import pandas as pd\n",
    "import math\n",
    "import random\n",
    "import matplotlib.pyplot as plt\n",
    "from numba import jit, prange, njit\n",
    "import networkx as nx\n",
    "from matplotlib.lines import Line2D\n",
    "from sklearn.linear_model import LinearRegression\n",
    "from scipy import optimize, stats\n",
    "import math"
   ]
  },
  {
   "cell_type": "markdown",
   "id": "b1e7479a",
   "metadata": {},
   "source": [
    "## Compute the change of energy after flipping the k-th spin"
   ]
  },
  {
   "cell_type": "markdown",
   "id": "4d38cc00",
   "metadata": {},
   "source": [
    "\n",
    "The energy of this model is defined as follows:\n",
    "\n",
    "$$ E = - \\frac{1}{\\lambda} log \\left( \\sum_{\\mu = 1}^{P} exp( \\lambda \\xi^\\mu \\cdot x) \\right), $$\n",
    "where the factor $ \\xi^\\mu \\cdot x $ is the overlap between the $\\mu$-th original pattern and the configuration x. <br>\n",
    "\n",
    "Now, if we change the sign of the $k$-th spin, we obtain that the overlap variation is:\n",
    "$$  \n",
    "\\Delta overlap = overlap_{fin} - overlap_{in} = \\left(\\sum_{i \\neq k}\\xi_i^\\mu x_i + \\xi_k^\\mu (-x_k)\\right) - \\left(\\sum_{i \\neq k}\\xi_i^\\mu x_i + \\xi_k^\\mu x_k\\right)\\\\\n",
    "= -2\\xi_{k}^{\\mu}x_k  $$.\n",
    "\n",
    "Thus, the variation in the energy can be calculated as:\n",
    "$$ E_f - E_i = - \\frac{1}{\\lambda} log \\left( \\sum_{\\mu = 1}^{P} exp( \\lambda \\cdot overlap_{in}^\\mu) \\right)\n",
    "+ \\frac{1}{\\lambda} log \\left( \\sum_{\\mu = 1}^{P} exp( \\lambda \\cdot overlap_{fin}^\\mu) \\right)\\\\\n",
    "= - \\frac{1}{\\lambda} \\left[log \\left(\\sum_{\\mu = 1}^{P} exp(\\lambda \\cdot overlap_{fin}^\\mu \\right)\n",
    "- log \\left(\\sum_{\\mu = 1}^{P} exp(\\lambda \\cdot overlap_{in}^\\mu \\right)\\right]\\\\\n",
    "= -\\frac{1}{\\lambda} \\left[ log \\left( \\frac{\\sum_{\\mu = 1}^{P} exp(\\lambda \\cdot overlap_{fin}^\\mu)}{\\sum_{\\mu = 1}^{P} exp(\\lambda \\cdot overlap_{in}^\\mu)} \\right) \\right].\n",
    "$$\n",
    "We have that:\n",
    "$$ overlap_{fin}^\\mu = overlap_{in}^\\mu - 2\\xi_{k}^{\\mu}x_k. $$\n",
    "Thus:\n",
    "$$\\Delta E =  -\\frac{1}{\\lambda} \\left[ log \\left( \\frac{\\sum_{\\mu = 1}^{P} exp(\\lambda \\cdot overlap_{in}^\\mu-2\\lambda\\xi_{k}^{\\mu}x_k) }{\\sum_{\\mu = 1}^{P} exp(\\lambda \\cdot overlap_{in}^\\mu)} \\right) \\right] $$"
   ]
  },
  {
   "cell_type": "code",
   "execution_count": 2,
   "id": "584c525d",
   "metadata": {},
   "outputs": [],
   "source": [
    "@jit(nopython = True)\n",
    "def init_pattern(N, binary = True):\n",
    "    '''\n",
    "    Returns a binary pattern \n",
    "    \n",
    "    INPUTs:\n",
    "    -size of the pattern\n",
    "    OUTPUTs:\n",
    "    -pattern of size N\n",
    "    '''\n",
    "    pattern = np.random.choice(np.array([-1,1]), N)\n",
    "    return pattern"
   ]
  },
  {
   "cell_type": "code",
   "execution_count": 3,
   "id": "9f0a2c7f",
   "metadata": {},
   "outputs": [],
   "source": [
    "def plot_pattern(pattern):\n",
    "    '''\n",
    "    Plot a lattice\n",
    "    '''\n",
    "    fig = plt.figure(figsize = (8, 3))\n",
    "    N = len(pattern)\n",
    "    G = nx.grid_2d_graph(N, 1)\n",
    "    pos = dict( (n, n) for n in G.nodes() )\n",
    "    colors = np.full(N, [\"black\"])\n",
    "\n",
    "    for i in range(N):\n",
    "        if pattern[i] == -1: colors[i] = \"red\"\n",
    "\n",
    "    legend_elements = [Line2D([0], [0], marker = \"s\", color=\"w\",label=\"Scatter\",\n",
    "                                 markerfacecolor = \"black\", markersize = 14),\n",
    "                           Line2D([0], [0], marker=\"s\", color=\"w\", label=\"Scatter\",\n",
    "                                  markerfacecolor= \"red\", markersize=14)]\n",
    "    nx.draw_networkx(G, pos = pos, with_labels = False, labels = None,\n",
    "                         node_color = colors, node_size = 100, node_shape = \"s\")\n",
    "    #plt.title(\"Example of initial state\", weight = \"bold\", size = 16)\n",
    "    plt.axis('off')\n",
    "    plt.gca().invert_yaxis()\n",
    "    plt.legend(legend_elements, [\"+1\", \"-1\"], bbox_to_anchor=(1, 1), loc=\"upper right\", fontsize = 10)\n",
    "    plt.show()\n",
    "    #fig.savefig(\"presentazione/Images/CP_init_loc.pdf\", transparent=True, bbox_inches = 'tight',\n",
    "    #pad_inches = 0)\n",
    "    return"
   ]
  },
  {
   "cell_type": "code",
   "execution_count": 4,
   "id": "e8fd58a2",
   "metadata": {},
   "outputs": [],
   "source": [
    "@jit(nopython = True)\n",
    "def multiple_patterns(n_patterns, pattern_size):\n",
    "    '''\n",
    "    Returns M binary patterns of size N\n",
    "    \n",
    "    Inputs:\n",
    "    -M, the number of patterns\n",
    "    -N, the size of each pattern\n",
    "    \n",
    "    Output:\n",
    "    -A matrix containing one pattern per row\n",
    "    '''\n",
    "    a_c = 2**(pattern_size/2)\n",
    "    \n",
    "    if n_patterns <= math.floor(pattern_size*a_c):\n",
    "        patterns = np.full((n_patterns, pattern_size), 0)\n",
    "        for j in prange(n_patterns): patterns[j] = init_pattern(pattern_size)\n",
    "        return patterns\n",
    "    else: print(\"Impossible to store all the patterns\")"
   ]
  },
  {
   "cell_type": "code",
   "execution_count": 5,
   "id": "9742bbc2",
   "metadata": {},
   "outputs": [],
   "source": [
    "@jit(nopython = True)\n",
    "def overlap(pattern1, pattern2):\n",
    "    return np.sum(pattern1*pattern2)"
   ]
  },
  {
   "cell_type": "code",
   "execution_count": 6,
   "id": "2b8882a2",
   "metadata": {},
   "outputs": [],
   "source": [
    "@jit(nopython = True)\n",
    "def energy(pattern, original_patterns, lam = 0.01, binary = True):\n",
    "    \n",
    "    M = original_patterns.shape[0]\n",
    "    \n",
    "    energy = 0\n",
    "    for m in range(M):\n",
    "        #print(overlap(pattern, original_patterns[m]))\n",
    "        energy += np.exp( lam * overlap(pattern, original_patterns[m]) )\n",
    "        #print(energy)\n",
    "    return (-1.)*np.log(energy)/lam"
   ]
  },
  {
   "cell_type": "code",
   "execution_count": 7,
   "id": "3c508b03",
   "metadata": {},
   "outputs": [],
   "source": [
    "@jit(nopython = True)\n",
    "def corruption(pattern, q):\n",
    "    '''\n",
    "    Corrupt each bit of a pattern with probability q\n",
    "    \n",
    "    Inputs:\n",
    "    -the pattern we want to corrupt;\n",
    "    -the probability of corruption\n",
    "    \n",
    "    Output:\n",
    "    -the corrupted pattern\n",
    "    '''\n",
    "    \n",
    "    N = len(pattern)\n",
    "    corrupted_pattern = np.copy(pattern)\n",
    "    for i in prange(N):\n",
    "        if np.random.random() < q: corrupted_pattern[i] *= -1\n",
    "    \n",
    "    return corrupted_pattern"
   ]
  },
  {
   "cell_type": "code",
   "execution_count": 25,
   "id": "56d9f9a0",
   "metadata": {},
   "outputs": [],
   "source": [
    "@jit(nopython = True)\n",
    "def glauber1(pattern, original_patterns, lam, beta = 10):\n",
    "\n",
    "    N = len(pattern)\n",
    "    M = original_patterns.shape[0]\n",
    "    #pattern_copy = pattern.copy()\n",
    "\n",
    "    for n in range(N):\n",
    "        #choose a random neuron index of the pattern\n",
    "        i = np.random.randint(N)\n",
    "\n",
    "        #deltaE = 0\n",
    "        \n",
    "        num, den = 0, 0\n",
    "        for m in range(M):\n",
    "            orig_p = original_patterns[m]\n",
    "            overlap_in = overlap(orig_p, pattern)\n",
    "            num += np.exp( lam * overlap_in - 2 * lam * orig_p[i] * pattern[i])\n",
    "            den += np.exp( lam * overlap_in )\n",
    "        \n",
    "        deltaE = (-1.)/lam * np.log(num/den)\n",
    "        #print(deltaE)\n",
    "        \n",
    "        if deltaE < 0 or np.random.random() < np.exp(- beta * deltaE):\n",
    "            print(\"ciao\")\n",
    "            pattern[i] = -1. * pattern[i]\n",
    "\n",
    "    return pattern"
   ]
  },
  {
   "cell_type": "code",
   "execution_count": 26,
   "id": "05d11f3f",
   "metadata": {},
   "outputs": [],
   "source": [
    "N = 20 #size of patterns\n",
    "M = 10#number of patterns we want to store\n",
    "q = 0.1 #probability of corruption\n",
    "\n",
    "patterns = multiple_patterns(M, N) #create M patterns of length N\n",
    "\n",
    "#corrupt the patterns\n",
    "corrupted_patterns = np.full((M, N), 0)\n",
    "for j in range(0, M): corrupted_patterns[j] = corruption(patterns[j], q)"
   ]
  },
  {
   "cell_type": "code",
   "execution_count": 27,
   "id": "213dbd29",
   "metadata": {},
   "outputs": [
    {
     "name": "stdout",
     "output_type": "stream",
     "text": [
      "ciao\n",
      "ciao\n",
      "ciao\n",
      "ciao\n",
      "ciao\n",
      "ciao\n",
      "ciao\n",
      "ciao\n",
      "ciao\n",
      "ciao\n",
      "ciao\n",
      "ciao\n",
      "ciao\n",
      "ciao\n",
      "ciao\n",
      "ciao\n",
      "ciao\n",
      "ciao\n",
      "ciao\n",
      "ciao\n",
      "ciao\n",
      "ciao\n",
      "CPU times: user 626 ms, sys: 21 ms, total: 647 ms\n",
      "Wall time: 716 ms\n"
     ]
    }
   ],
   "source": [
    "%%time\n",
    "nsteps = 10 #number of steps for the Monte Carlo algorithm\n",
    "\n",
    "overlaps = np.ones(nsteps+1)\n",
    "overlaps[0] = overlap(corrupted_patterns[0], patterns[0])\n",
    "curr_p = corrupted_patterns[0].copy()\n",
    "for s in range(1, nsteps+1):\n",
    "    curr_p = glauber1(curr_p, patterns, lam = 0.001, beta = 100)\n",
    "    overlaps[s] = overlap(curr_p, patterns[0])\n",
    "    if overlaps[s] == 1: break\n",
    "        "
   ]
  },
  {
   "cell_type": "code",
   "execution_count": 28,
   "id": "b91afa37",
   "metadata": {},
   "outputs": [
    {
     "data": {
      "text/plain": [
       "[<matplotlib.lines.Line2D at 0x7f80f873bd60>]"
      ]
     },
     "execution_count": 28,
     "metadata": {},
     "output_type": "execute_result"
    },
    {
     "data": {
      "image/png": "[encoded data removed]",
      "text/plain": [
       "<Figure size 432x288 with 1 Axes>"
      ]
     },
     "metadata": {
      "needs_background": "light"
     },
     "output_type": "display_data"
    }
   ],
   "source": [
    "plt.plot(overlaps/N)"
   ]
  },
  {
   "cell_type": "code",
   "execution_count": 50,
   "id": "29270e60",
   "metadata": {},
   "outputs": [
    {
     "data": {
      "text/plain": [
       "-33.62922598654068"
      ]
     },
     "execution_count": 50,
     "metadata": {},
     "output_type": "execute_result"
    }
   ],
   "source": [
    "energy(corrupted_patterns[1], patterns)"
   ]
  },
  {
   "cell_type": "code",
   "execution_count": 52,
   "id": "7f4dfbf6",
   "metadata": {},
   "outputs": [
    {
     "data": {
      "text/plain": [
       "-32.96458961371307"
      ]
     },
     "execution_count": 52,
     "metadata": {},
     "output_type": "execute_result"
    }
   ],
   "source": [
    "energy(patterns[1], patterns)"
   ]
  },
  {
   "cell_type": "code",
   "execution_count": 20,
   "id": "a533eb9e",
   "metadata": {},
   "outputs": [
    {
     "data": {
      "text/plain": [
       "-230.0108129081762"
      ]
     },
     "execution_count": 20,
     "metadata": {},
     "output_type": "execute_result"
    }
   ],
   "source": [
    "M = 10\n",
    "N = 10\n",
    "patterns = multiple_patterns(M, N)\n",
    "pattern1 = patterns[0].copy()\n",
    "energy(patterns[0], patterns)"
   ]
  },
  {
   "cell_type": "code",
   "execution_count": 21,
   "id": "e715ea48",
   "metadata": {},
   "outputs": [],
   "source": [
    "pattern1[0]*=-1"
   ]
  },
  {
   "cell_type": "code",
   "execution_count": 22,
   "id": "e4de72e4",
   "metadata": {},
   "outputs": [
    {
     "data": {
      "text/plain": [
       "-0.7551866149185003"
      ]
     },
     "execution_count": 22,
     "metadata": {},
     "output_type": "execute_result"
    }
   ],
   "source": [
    "energy(pattern1, patterns) - energy(patterns[0], patterns)"
   ]
  },
  {
   "cell_type": "code",
   "execution_count": 23,
   "id": "c7e1af2f",
   "metadata": {},
   "outputs": [],
   "source": [
    "num, den = 0, 0\n",
    "lam = 0.01\n",
    "for m in range(M):\n",
    "    orig_p = patterns[m]\n",
    "    overlap_in = overlap(orig_p, patterns[0])\n",
    "    num += np.exp( lam * overlap_in - 2 * lam * orig_p[0] * patterns[0][0])\n",
    "    den += np.exp( lam * overlap_in )\n",
    "\n",
    "deltaE = (-1.)/lam * np.log(num/den)"
   ]
  },
  {
   "cell_type": "code",
   "execution_count": 24,
   "id": "8f27a636",
   "metadata": {},
   "outputs": [
    {
     "data": {
      "text/plain": [
       "-0.7551866149185186"
      ]
     },
     "execution_count": 24,
     "metadata": {},
     "output_type": "execute_result"
    }
   ],
   "source": [
    "deltaE"
   ]
  },
  {
   "cell_type": "code",
   "execution_count": null,
   "id": "9df3defe",
   "metadata": {},
   "outputs": [],
   "source": []
  }
 ],
 "metadata": {
  "kernelspec": {
   "display_name": "Python 3 (ipykernel)",
   "language": "python",
   "name": "python3"
  },
  "language_info": {
   "codemirror_mode": {
    "name": "ipython",
    "version": 3
   },
   "file_extension": ".py",
   "mimetype": "text/x-python",
   "name": "python",
   "nbconvert_exporter": "python",
   "pygments_lexer": "ipython3",
   "version": "3.10.7"
  }
 },
 "nbformat": 4,
 "nbformat_minor": 5
}
