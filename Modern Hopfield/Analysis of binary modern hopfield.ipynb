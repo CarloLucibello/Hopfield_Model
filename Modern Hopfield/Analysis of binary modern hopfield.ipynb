{
 "cells": [
  {
   "cell_type": "markdown",
   "id": "21c81c77",
   "metadata": {},
   "source": [
    "In this code, we assume the following notation for the Standard Hopfield model:\n",
    "- N is the size of the patterns;\n",
    "- M is the number of patterns that we want to store;\n",
    "- $\\xi^\\mu \\in [-1,1]^N$, is the $\\mu$-th stored pattern, with $\\mu = 1,...,M$;\n",
    "- $\\sigma \\in [-1,1]^N$ is a generic configuration.\n",
    "\n",
    "\n",
    "The energy of a given configuration $\\sigma$ is given by:\n",
    "$$\n",
    "E(\\sigma) = - \\sum_{\\mu = 1}^{M} exp(\\sigma \\cdot \\xi_\\mu )\n",
    "$$"
   ]
  },
  {
   "cell_type": "code",
   "execution_count": 1,
   "id": "e9a8bd63",
   "metadata": {},
   "outputs": [],
   "source": [
    "import modern_hopfield_binary as mh\n",
    "import numpy as np\n",
    "import matplotlib.pyplot as plt\n",
    "from numba import jit, prange, njit\n",
    "import time\n",
    "import math\n",
    "from scipy import optimize\n",
    "from scipy.optimize import curve_fit\n",
    "from scipy import stats"
   ]
  },
  {
   "cell_type": "code",
   "execution_count": 2,
   "id": "364d5403",
   "metadata": {},
   "outputs": [],
   "source": [
    "def reconstruction_probability(N, pp, α, nsweeps, ntrials, nsamples, β = 100, earlystop = 0,\n",
    "                               save = False, plot = False):\n",
    "    \n",
    "    #define the corruption probabilities and the number of stored patterns\n",
    "    M = math.floor(N * α)\n",
    "    \n",
    "    #initialize vectors to contain final probabilities and relative errorbars\n",
    "    probs = np.zeros(len(pp))\n",
    "    error_bars = np.zeros(len(pp))\n",
    "    \n",
    "    #loop over corruption probabilities\n",
    "    for i in range(len(pp)):\n",
    "    \n",
    "        #initialize array to average over samples later\n",
    "        probs_over_samples = np.zeros(nsamples)\n",
    "\n",
    "        #loop over samples\n",
    "        for sample in range(nsamples):\n",
    "            ξ = mh.multiple_patterns(M, N) #create M patterns of length N\n",
    "            #J = mh.storing(ξ) # store the patterns into the matrix J\n",
    "\n",
    "            # select a random pattern, corrupt it with probability pp[i] and try to reconstruct the original\n",
    "            # ntrials times\n",
    "            k = np.random.randint(M)\n",
    "            corrupted_ξ = mh.corruption(ξ[k], pp[i])\n",
    "\n",
    "            count = 0 # count the number of times that the pattern is correctly reconstructed\n",
    "            for trial in prange(ntrials):\n",
    "                σ = corrupted_ξ.copy()\n",
    "                \n",
    "                # metropolis algorithm for nsweeps iterations\n",
    "                for s in prange(nsweeps):\n",
    "                        σ, fliprate = mh.metropolis(σ, ξ, β = 100)\n",
    "                        \n",
    "                        # earlystop if fliprate <= earlystop\n",
    "                        if fliprate <= earlystop: break\n",
    "                            \n",
    "                m = mh.overlap(σ, ξ[k]) / N # compute the overlap\n",
    "\n",
    "                if m >= 0.95: count += 1 # consider a success if m is >= 0.95\n",
    "                    \n",
    "            probs_over_samples[sample] = count/ntrials # fraction of times that the pattern was reconstructed\n",
    "                                                       # succesfully\n",
    "\n",
    "        probs[i] = np.mean(probs_over_samples) # average over samples\n",
    "        error_bars[i] = np.std(probs_over_samples) / np.sqrt(nsamples) # error of the average\n",
    "    \n",
    "    # plot the results\n",
    "    if plot:\n",
    "        size = 12\n",
    "        #plt.plot(pp, probs_15, c = \"red\", marker = \"None\", linestyle = \"None\", linewidth = 1)\n",
    "        plt.errorbar(pp, probs, yerr = error_bars, c = \"darkorange\", ecolor = \"black\", linestyle = \"--\", linewidth = 1,\n",
    "                     marker = \"o\", markerfacecolor = \"None\", markersize = 4, capsize = 2, label = \"N = {}, M = {}\".format(N, M))\n",
    "        plt.xlabel(\"p (probability of corruption)\", size = size)\n",
    "        plt.ylabel(\"Prob\", size = size)\n",
    "        plt.title(\"Probability of reconstruction for different corruption probabilities\")\n",
    "        plt.legend(fontsize = size)\n",
    "        plt.grid(axis = \"both\", linestyle = \"--\", linewidth = .7, alpha = 0.5)\n",
    "        plt.show()\n",
    "        \n",
    "    # save the results \n",
    "    if save:\n",
    "        np.savetxt('saved_data/standard_hopfield/probs_N{}_α{}'.format(N, α), np.vstack((pp, probs, error_bars)).T, delimiter=', ', fmt = \"%f\")\n",
    "    return probs, error_bars"
   ]
  },
  {
   "cell_type": "code",
   "execution_count": 4,
   "id": "13af2da0",
   "metadata": {},
   "outputs": [
    {
     "name": "stdout",
     "output_type": "stream",
     "text": [
      "Starting simulation for N = 50 \n",
      "...\n"
     ]
    },
    {
     "ename": "SystemError",
     "evalue": "CPUDispatcher(<function metropolis at 0x7fb1e2218670>) returned a result with an error set",
     "output_type": "error",
     "traceback": [
      "\u001b[0;31m---------------------------------------------------------------------------\u001b[0m",
      "\u001b[0;31mKeyboardInterrupt\u001b[0m                         Traceback (most recent call last)",
      "\u001b[0;32m~/miniconda3/lib/python3.9/site-packages/numba/core/serialize.py\u001b[0m in \u001b[0;36m_numba_unpickle\u001b[0;34m(address, bytedata, hashed)\u001b[0m\n\u001b[1;32m     28\u001b[0m \u001b[0;34m\u001b[0m\u001b[0m\n\u001b[0;32m---> 29\u001b[0;31m \u001b[0;32mdef\u001b[0m \u001b[0m_numba_unpickle\u001b[0m\u001b[0;34m(\u001b[0m\u001b[0maddress\u001b[0m\u001b[0;34m,\u001b[0m \u001b[0mbytedata\u001b[0m\u001b[0;34m,\u001b[0m \u001b[0mhashed\u001b[0m\u001b[0;34m)\u001b[0m\u001b[0;34m:\u001b[0m\u001b[0;34m\u001b[0m\u001b[0;34m\u001b[0m\u001b[0m\n\u001b[0m\u001b[1;32m     30\u001b[0m     \"\"\"Used by `numba_unpickle` from _helperlib.c\n",
      "\u001b[0;31mKeyboardInterrupt\u001b[0m: ",
      "\nThe above exception was the direct cause of the following exception:\n",
      "\u001b[0;31mSystemError\u001b[0m                               Traceback (most recent call last)",
      "\u001b[0;32m<timed exec>\u001b[0m in \u001b[0;36m<module>\u001b[0;34m\u001b[0m\n",
      "\u001b[0;32m/var/folders/qx/8mj8c3js6zdfblrg8s_5rqtr0000gn/T/ipykernel_7224/397381636.py\u001b[0m in \u001b[0;36mreconstruction_probability\u001b[0;34m(N, pp, α, nsweeps, ntrials, nsamples, β, earlystop, save, plot)\u001b[0m\n\u001b[1;32m     31\u001b[0m                 \u001b[0;31m# metropolis algorithm for nsweeps iterations\u001b[0m\u001b[0;34m\u001b[0m\u001b[0;34m\u001b[0m\u001b[0;34m\u001b[0m\u001b[0m\n\u001b[1;32m     32\u001b[0m                 \u001b[0;32mfor\u001b[0m \u001b[0ms\u001b[0m \u001b[0;32min\u001b[0m \u001b[0mprange\u001b[0m\u001b[0;34m(\u001b[0m\u001b[0mnsweeps\u001b[0m\u001b[0;34m)\u001b[0m\u001b[0;34m:\u001b[0m\u001b[0;34m\u001b[0m\u001b[0;34m\u001b[0m\u001b[0m\n\u001b[0;32m---> 33\u001b[0;31m                         \u001b[0mσ\u001b[0m\u001b[0;34m,\u001b[0m \u001b[0mfliprate\u001b[0m \u001b[0;34m=\u001b[0m \u001b[0mmh\u001b[0m\u001b[0;34m.\u001b[0m\u001b[0mmetropolis\u001b[0m\u001b[0;34m(\u001b[0m\u001b[0mσ\u001b[0m\u001b[0;34m,\u001b[0m \u001b[0mξ\u001b[0m\u001b[0;34m,\u001b[0m \u001b[0mβ\u001b[0m \u001b[0;34m=\u001b[0m \u001b[0;36m100\u001b[0m\u001b[0;34m)\u001b[0m\u001b[0;34m\u001b[0m\u001b[0;34m\u001b[0m\u001b[0m\n\u001b[0m\u001b[1;32m     34\u001b[0m \u001b[0;34m\u001b[0m\u001b[0m\n\u001b[1;32m     35\u001b[0m                         \u001b[0;31m# earlystop if fliprate <= earlystop\u001b[0m\u001b[0;34m\u001b[0m\u001b[0;34m\u001b[0m\u001b[0;34m\u001b[0m\u001b[0m\n",
      "\u001b[0;31mSystemError\u001b[0m: CPUDispatcher(<function metropolis at 0x7fb1e2218670>) returned a result with an error set"
     ]
    }
   ],
   "source": [
    "%%time\n",
    "\n",
    "N = np.array([50])\n",
    "parameters = {\n",
    "    \"pp\": np.linspace(0.02, 0.9, 25),\n",
    "    \"α\": 1,\n",
    "    \"nsweeps\": 70,\n",
    "    \"ntrials\": 100,\n",
    "    \"nsamples\": 100,\n",
    "    \"β\": 10**3,\n",
    "    \"earlystop\": 0,\n",
    "    \"plot\": True,\n",
    "    \"save\": False\n",
    "}\n",
    "\n",
    "for n in N:\n",
    "    print(\"Starting simulation for N = {}\".format(n), \"\\n...\")\n",
    "    p, e = reconstruction_probability(n, **parameters)\n",
    "    print(\"Done!\\n\\n\")"
   ]
  },
  {
   "cell_type": "code",
   "execution_count": 5,
   "id": "cc68953d",
   "metadata": {},
   "outputs": [
    {
     "name": "stdout",
     "output_type": "stream",
     "text": [
      "Starting simulation for N = 1000 \n",
      "...\n"
     ]
    },
    {
     "data": {
      "image/png": "[encoded data removed]",
      "text/plain": [
       "<Figure size 432x288 with 1 Axes>"
      ]
     },
     "metadata": {
      "needs_background": "light"
     },
     "output_type": "display_data"
    },
    {
     "name": "stdout",
     "output_type": "stream",
     "text": [
      "Done!\n",
      "\n",
      "\n",
      "CPU times: user 706 ms, sys: 40.3 ms, total: 746 ms\n",
      "Wall time: 685 ms\n"
     ]
    }
   ],
   "source": [
    "%%time\n",
    "\n",
    "N = np.array([1000])\n",
    "parameters = {\n",
    "    \"pp\": np.array([0.2]),\n",
    "    \"α\": 0.1,\n",
    "    \"nsweeps\": 100,\n",
    "    \"ntrials\": 1,\n",
    "    \"nsamples\": 1,\n",
    "    \"β\": 10**3,\n",
    "    \"earlystop\": 0,\n",
    "    \"plot\": True,\n",
    "    \"save\": False\n",
    "}\n",
    "\n",
    "for n in N:\n",
    "    print(\"Starting simulation for N = {}\".format(n), \"\\n...\")\n",
    "    p, e = reconstruction_probability(n, **parameters)\n",
    "    print(\"Done!\\n\\n\")"
   ]
  },
  {
   "cell_type": "code",
   "execution_count": 45,
   "id": "a02339b6",
   "metadata": {},
   "outputs": [
    {
     "name": "stdout",
     "output_type": "stream",
     "text": [
      "CPU times: user 7.79 s, sys: 11.1 ms, total: 7.81 s\n",
      "Wall time: 7.81 s\n"
     ]
    }
   ],
   "source": [
    "%%time\n",
    "N = 1000\n",
    "M = int(N*0.1)\n",
    "earlystop = -1\n",
    "nsweeps = 100\n",
    "ξ = mh.multiple_patterns(M, N) #create M patterns of length N\n",
    "k = 0\n",
    "corrupted_ξ = mh.corruption(ξ[k], 0.2)\n",
    "σ = corrupted_ξ.copy()\n",
    "for s in prange(nsweeps):\n",
    "    σ, fliprate = mh.metropolis(σ, ξ, β = 100)\n",
    "\n",
    "    # earlystop if fliprate <= earlystop\n",
    "    if fliprate <= earlystop: break"
   ]
  },
  {
   "cell_type": "code",
   "execution_count": 55,
   "id": "ae4f0ba4",
   "metadata": {},
   "outputs": [],
   "source": [
    "def ΔE(σ, ξ):\n",
    "    M = ξ.shape[0]\n",
    "    i = 0\n",
    "    ΔE = 0\n",
    "    for μ in prange(M):\n",
    "        orig_ξ = ξ[μ]\n",
    "        overlap_in = overlap(orig_ξ, σ)\n",
    "        ΔE -= np.exp( overlap_in ) * ( np.exp( - 2. * orig_ξ[i] * σ[i]) - 1 )\n",
    "    return ΔE"
   ]
  },
  {
   "cell_type": "code",
   "execution_count": 56,
   "id": "b2f1b42e",
   "metadata": {},
   "outputs": [
    {
     "name": "stdout",
     "output_type": "stream",
     "text": [
      "CPU times: user 2.9 ms, sys: 672 µs, total: 3.57 ms\n",
      "Wall time: 2.42 ms\n"
     ]
    },
    {
     "data": {
      "text/plain": [
       "-1.0944124486248349e+257"
      ]
     },
     "execution_count": 56,
     "metadata": {},
     "output_type": "execute_result"
    }
   ],
   "source": [
    "%%time\n",
    "ξ = mh.multiple_patterns(M, N) #create M patterns of length N\n",
    "k = 0\n",
    "corrupted_ξ = mh.corruption(ξ[k], 0.2)\n",
    "σ = corrupted_ξ.copy()\n",
    "ΔE(σ, ξ)"
   ]
  },
  {
   "cell_type": "code",
   "execution_count": null,
   "id": "fbf10258",
   "metadata": {},
   "outputs": [],
   "source": [
    "def ΔE1(σ, ξ):\n",
    "    M = ξ.shape[0]\n",
    "    i = 0\n",
    "    ΔE = 0\n",
    "\n",
    "    for μ in prange(M):\n",
    "        orig_ξ = ξ[μ]\n",
    "        overlap_in = overlap(orig_ξ, σ)\n",
    "        ΔE -= np.exp( overlap_in ) * ( np.exp( - 2. * orig_ξ[i] * σ[i]) - 1 )\n",
    "    return ΔE"
   ]
  },
  {
   "cell_type": "code",
   "execution_count": 11,
   "id": "20d30e45",
   "metadata": {},
   "outputs": [],
   "source": [
    "a = mh.init_pattern(1000)\n",
    "b = mh.init_pattern(1000)"
   ]
  },
  {
   "cell_type": "code",
   "execution_count": 12,
   "id": "99d9a9f6",
   "metadata": {},
   "outputs": [
    {
     "name": "stdout",
     "output_type": "stream",
     "text": [
      "CPU times: user 15 µs, sys: 0 ns, total: 15 µs\n",
      "Wall time: 17.9 µs\n"
     ]
    },
    {
     "data": {
      "text/plain": [
       "-18"
      ]
     },
     "execution_count": 12,
     "metadata": {},
     "output_type": "execute_result"
    }
   ],
   "source": [
    "%%time\n",
    "mh.overlap(a, b)"
   ]
  },
  {
   "cell_type": "code",
   "execution_count": null,
   "id": "1b3c435b",
   "metadata": {},
   "outputs": [],
   "source": []
  }
 ],
 "metadata": {
  "kernelspec": {
   "display_name": "Python 3 (ipykernel)",
   "language": "python",
   "name": "python3"
  },
  "language_info": {
   "codemirror_mode": {
    "name": "ipython",
    "version": 3
   },
   "file_extension": ".py",
   "mimetype": "text/x-python",
   "name": "python",
   "nbconvert_exporter": "python",
   "pygments_lexer": "ipython3",
   "version": "3.9.5"
  }
 },
 "nbformat": 4,
 "nbformat_minor": 5
}
